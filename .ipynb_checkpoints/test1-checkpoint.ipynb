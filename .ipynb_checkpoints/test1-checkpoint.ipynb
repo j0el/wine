{
 "cells": [
  {
   "cell_type": "code",
   "execution_count": 1,
   "id": "3e81735f-d91a-4c2a-932f-48625384ad33",
   "metadata": {},
   "outputs": [],
   "source": [
    "import json\n",
    "import pandas as pd\n",
    "import requests\n",
    "import time"
   ]
  },
  {
   "cell_type": "code",
   "execution_count": 2,
   "id": "a442a856-a0fa-4b24-9a2b-b5b051899757",
   "metadata": {},
   "outputs": [],
   "source": [
    "# Create Empty DataFrame To Append To\n",
    "wine_cols = [\"Winery\", \"Wine\", \"Rating\", \"Review_Count\", \"Region\", \"SubRegion\"]\n",
    "wine_df = pd.DataFrame(columns=wine_cols)"
   ]
  },
  {
   "cell_type": "code",
   "execution_count": 3,
   "id": "597386a6-60d6-4109-bbf2-a8e90330885a",
   "metadata": {},
   "outputs": [],
   "source": [
    "# Loop\n",
    "for x in range(1, 20):\n",
    "    r = requests.get(\n",
    "        \"https://www.vivino.com/api/explore/explore\",\n",
    "        params={\n",
    "            \"currency_code\": \"USD\",\n",
    "            \"min_rating\": \"1\",\n",
    "            #   \"order_by\":\"price\",\n",
    "            #   \"order\":\"asc\",\n",
    "               \"page\": 2,\n",
    "            \"wine_type_ids[]\": \"1\",\n",
    "        },\n",
    "        headers={\n",
    "            \"User-Agent\": \"Mozilla/5.0 (Windows NT 10.0; Win64; x64; rv:66.0) Gecko/20100101 Firefox/66.0\"\n",
    "        },\n",
    "    )\n",
    "    # print(r.json())\n",
    "    results = [\n",
    "        (\n",
    "            t[\"vintage\"][\"wine\"][\"winery\"][\"name\"],\n",
    "            f'{t[\"vintage\"][\"wine\"][\"name\"]} {t[\"vintage\"][\"year\"]}',\n",
    "            t[\"vintage\"][\"statistics\"][\"ratings_average\"],\n",
    "            t[\"vintage\"][\"statistics\"][\"ratings_count\"],\n",
    "            t[\"vintage\"][\"wine\"][\"region\"][\"country\"][\"name\"],\n",
    "            t[\"vintage\"][\"wine\"][\"region\"][\"name\"],\n",
    "        )\n",
    "        for t in r.json()[\"explore_vintage\"][\"matches\"]\n",
    "    ]\n",
    "    temp_df = pd.DataFrame(results, columns=wine_cols)\n",
    "    wine_df = pd.concat([wine_df,temp_df])"
   ]
  },
  {
   "cell_type": "code",
   "execution_count": 4,
   "id": "145c3378-c523-4d45-9324-02ff44787f8c",
   "metadata": {},
   "outputs": [],
   "source": [
    "# pd.set_option('display.max_rows', None)\n",
    "# pd.set_option('display.max_columns', None)\n",
    "# pd.set_option('display.width', 1000)\n",
    "# pd.set_option('display.colheader_justify', 'center')\n",
    "# pd.set_option('display.precision', 2)\n",
    "# display(wine_df)\n",
    "wine_df.to_excel(\"output1.xlsx\")"
   ]
  },
  {
   "cell_type": "code",
   "execution_count": null,
   "id": "ec09e7fb-1096-4ad5-919d-be5bc7e0adb4",
   "metadata": {},
   "outputs": [],
   "source": []
  }
 ],
 "metadata": {
  "kernelspec": {
   "display_name": "Python 3 (ipykernel)",
   "language": "python",
   "name": "python3"
  },
  "language_info": {
   "codemirror_mode": {
    "name": "ipython",
    "version": 3
   },
   "file_extension": ".py",
   "mimetype": "text/x-python",
   "name": "python",
   "nbconvert_exporter": "python",
   "pygments_lexer": "ipython3",
   "version": "3.10.9"
  }
 },
 "nbformat": 4,
 "nbformat_minor": 5
}
